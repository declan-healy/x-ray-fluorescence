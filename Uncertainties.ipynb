{
  "cells": [
    {
      "cell_type": "markdown",
      "metadata": {
        "id": "TADwWzv7cZEO"
      },
      "source": [
        "# Feedback from previous weeks and other and hints\n",
        "\n",
        "1. Be careful about your environment remembering variables. Make sure your code works in a new _clean_ environment. In Colab: `Runtime`->`restart Runtime`, in Anaconda's Jupyter: `Kernel`->`Restart`.\n",
        "2. Graphs without labels (or units when appropriate) are not worth any point.\n",
        "3. Do put in sufficient explanatory comments in your code.\n",
        "4. Functions are very important. Do look up the video on the Safari O'Reilly ressource if you are still not clear on them !\n",
        "\n",
        "For this week you can use these imports at the start of your programs:"
      ]
    },
    {
      "cell_type": "code",
      "execution_count": 2,
      "metadata": {
        "id": "3wwJuy4JcZET"
      },
      "outputs": [],
      "source": [
        "import numpy as np\n",
        "import matplotlib.pyplot as plt"
      ]
    },
    {
      "cell_type": "markdown",
      "metadata": {
        "id": "SixFxgBAcZEW"
      },
      "source": [
        "We will use a new module `uncertainties`, which is **not** standard in the colab environment. You will have to first run:"
      ]
    },
    {
      "cell_type": "code",
      "execution_count": 3,
      "metadata": {
        "id": "nf1Q5bgscZEX",
        "outputId": "932b5493-acac-4cd2-dea1-1e741898c2d2",
        "colab": {
          "base_uri": "https://localhost:8080/"
        }
      },
      "outputs": [
        {
          "output_type": "stream",
          "name": "stdout",
          "text": [
            "\u001b[?25l\r\u001b[K     |███▎                            | 10 kB 21.7 MB/s eta 0:00:01\r\u001b[K     |██████▋                         | 20 kB 14.4 MB/s eta 0:00:01\r\u001b[K     |██████████                      | 30 kB 19.5 MB/s eta 0:00:01\r\u001b[K     |█████████████▎                  | 40 kB 9.4 MB/s eta 0:00:01\r\u001b[K     |████████████████▋               | 51 kB 8.8 MB/s eta 0:00:01\r\u001b[K     |████████████████████            | 61 kB 10.3 MB/s eta 0:00:01\r\u001b[K     |███████████████████████▎        | 71 kB 9.9 MB/s eta 0:00:01\r\u001b[K     |██████████████████████████▋     | 81 kB 8.0 MB/s eta 0:00:01\r\u001b[K     |██████████████████████████████  | 92 kB 8.9 MB/s eta 0:00:01\r\u001b[K     |████████████████████████████████| 98 kB 4.7 MB/s \n",
            "\u001b[?25h"
          ]
        }
      ],
      "source": [
        "! pip install -q uncertainties"
      ]
    },
    {
      "cell_type": "markdown",
      "metadata": {
        "id": "1mUr3gbScZEX"
      },
      "source": [
        "To install the module before you can import it:"
      ]
    },
    {
      "cell_type": "code",
      "execution_count": 59,
      "metadata": {
        "id": "bRIddnZocZEY"
      },
      "outputs": [],
      "source": [
        "import uncertainties as uc\n",
        "import uncertainties.umath as um # for maths functions"
      ]
    },
    {
      "cell_type": "markdown",
      "metadata": {
        "id": "34V8G1-LcZEZ"
      },
      "source": [
        "# Introduction\n",
        "In the practical classes PX2133/PX2233 and PX2338 (Obs tech), as well as your year 3/4 project, a lot of emphasis is placed on the determination and mathematical handling of errors.\n",
        "The uncertainties module allows us to deal very easily with [error propagation](https://en.wikipedia.org/wiki/Propagation_of_uncertainty). For this sheet you should remind yourself about error bars in measurements and about propagation of uncertainties. Take an example from your lab handbook:\n",
        "\n",
        "**Example 1**: If the length of a rectangle is $1.24\\pm0.02 m$ and its breadth is $0.61\\pm0.01 m$, what is its area and the error in the area? The following code snippet solves this problem in a few lines."
      ]
    },
    {
      "cell_type": "code",
      "execution_count": 5,
      "metadata": {
        "id": "Sbx7H-TmcZEa",
        "outputId": "1fef7055-8178-4dc0-b9ed-d98b6ad0a1ba",
        "colab": {
          "base_uri": "https://localhost:8080/"
        }
      },
      "outputs": [
        {
          "output_type": "stream",
          "name": "stdout",
          "text": [
            "Area is: 0.756+/-0.017 m^2\n"
          ]
        }
      ],
      "source": [
        "L = uc.ufloat(1.24, 0.02)\n",
        "W = uc.ufloat(0.61, 0.01)\n",
        "print ('Area is:', L*W, 'm^2') # Do remember to add the units when printing!"
      ]
    },
    {
      "cell_type": "markdown",
      "metadata": {
        "id": "RVaxTgz2cZEc"
      },
      "source": [
        "**Note**: For the area itself, it's fairly straightforward:"
      ]
    },
    {
      "cell_type": "code",
      "execution_count": 6,
      "metadata": {
        "id": "jtb7DCuHcZEe",
        "outputId": "3e982cae-176e-4e2c-9ebc-4a926cbed4e4",
        "colab": {
          "base_uri": "https://localhost:8080/"
        }
      },
      "outputs": [
        {
          "output_type": "execute_result",
          "data": {
            "text/plain": [
              "0.7564"
            ]
          },
          "metadata": {},
          "execution_count": 6
        }
      ],
      "source": [
        "1.24*0.61"
      ]
    },
    {
      "cell_type": "markdown",
      "metadata": {
        "id": "kjk1LLwRcZEe"
      },
      "source": [
        "However, for the error bar on this number:"
      ]
    },
    {
      "cell_type": "code",
      "execution_count": 7,
      "metadata": {
        "id": "J5KNpr--cZEf",
        "outputId": "8a5ef0ff-270d-4657-deb7-6dc186cc5489",
        "colab": {
          "base_uri": "https://localhost:8080/"
        }
      },
      "outputs": [
        {
          "output_type": "execute_result",
          "data": {
            "text/plain": [
              "0.0002"
            ]
          },
          "metadata": {},
          "execution_count": 7
        }
      ],
      "source": [
        "0.02*0.01"
      ]
    },
    {
      "cell_type": "markdown",
      "metadata": {
        "id": "S4IMXV-fcZEg"
      },
      "source": [
        "does not work. Instead, the [error progation formula](https://en.wikipedia.org/wiki/Propagation_of_uncertainty#Example_formulae) gives:"
      ]
    },
    {
      "cell_type": "code",
      "execution_count": 8,
      "metadata": {
        "id": "0LAfEFurcZEg",
        "outputId": "ec757131-e403-42e0-c458-d19d12a2838c",
        "colab": {
          "base_uri": "https://localhost:8080/"
        }
      },
      "outputs": [
        {
          "output_type": "execute_result",
          "data": {
            "text/plain": [
              "0.01739540169125163"
            ]
          },
          "metadata": {},
          "execution_count": 8
        }
      ],
      "source": [
        "np.abs(1.24*0.61)*np.sqrt((0.02/1.24)**2+(0.01/0.61)**2)"
      ]
    },
    {
      "cell_type": "markdown",
      "metadata": {
        "id": "24UMQAQLcZEk"
      },
      "source": [
        "So the area is $0.756\\pm0.017 m^2$. `uncertainties` obviously saves a lot of work, even for such a simple case. You can also take a look at the web site uncertainties hosted at https://pythonhosted.org/uncertainties/user_guide.html. In particular, [this section](https://pythonhosted.org/uncertainties/user_guide.html#access-to-the-uncertainty-and-to-the-nominal-value) shows some of the properties of a `ufloat` you can access directly.\n",
        "\n",
        "**Example 2**: A reference object is $10.0\\pm0.0001 m$ long, and makes a viewing angle of $0.62\\pm0.02 rad$. How far is it?"
      ]
    },
    {
      "cell_type": "code",
      "execution_count": 9,
      "metadata": {
        "id": "CPnUYehRcZEk",
        "outputId": "ea50e98e-8b9b-4d48-f45e-270acbd6181d",
        "colab": {
          "base_uri": "https://localhost:8080/"
        }
      },
      "outputs": [
        {
          "output_type": "stream",
          "name": "stdout",
          "text": [
            "Distance is: 15.609024890896208 m, with an error of: 0.537283338762715\n"
          ]
        }
      ],
      "source": [
        "L = uc.ufloat(10.0, 0.0001)\n",
        "theta = uc.ufloat(0.62,0.02)\n",
        "\n",
        "Distance = (L/2)/um.tan(theta/2)\n",
        "\n",
        "print ('Distance is:', Distance.nominal_value, 'm, with an error of:', Distance.std_dev)"
      ]
    },
    {
      "cell_type": "markdown",
      "metadata": {
        "id": "UzNG0P0TcZEl"
      },
      "source": [
        "Note the need to use \"umath\" functions (like `um.tan()` instead of `np.tan()`), and how to get the nominal value and the standard deviation of the uncertainties objects. To get nicer looking output, such as controlling the number of significant digits printed, you can use the information about formatting at https://docs.python.org/3/tutorial/inputoutput.html. In the exercises below you need to print the values to the screen. (Don’t forget units.)"
      ]
    },
    {
      "cell_type": "markdown",
      "metadata": {
        "id": "yLIdVw-KcZEm"
      },
      "source": [
        "# Exercises\n",
        "This must be marked before you leave the lab. Mark weighting is in brackets.\n",
        "**Save your work to GitHub after having run all cells with `Runtime` -> `Restart and run all`. And do not change the notebook's filename.** Do add comments to your code, you'll lose points if your code is hard to understand. Graphs without labels (or units when appropriate) are not worth any point.\n",
        "\n",
        "## Exercise 0\n",
        "[0] With some approximations, we have measured the mass of the following black-holes:\n",
        "```\n",
        "\"35.6+/-3.9\",\"30.6+/-3.7\",\"63.1+/-3.2\",\"23.2+/-9.8\",\"13.6+/-4.5\",\"35.7+/-6.8\",\"13.7+/-6.0\",\"7.7+/-2.4\",\"20.5+/-4.0\"\n",
        "```\n",
        "Compute for each (with error-bars) their lifetime due to Hawking radiation:\n",
        "$$\n",
        "t = \\left(\\frac{M}{M_{\\odot}}\\right)^3\\,\\times\\,2.097\\,\\times\\,10^{67} yr\n",
        "$$\n",
        "\n",
        "(this exercise is for demonstration purposes and won't be marked)"
      ]
    },
    {
      "cell_type": "code",
      "execution_count": 9,
      "metadata": {
        "id": "SXOLuPh0cZEm"
      },
      "outputs": [],
      "source": []
    },
    {
      "cell_type": "markdown",
      "metadata": {
        "id": "f_KHbuTZcZEn"
      },
      "source": [
        "## Exercise 1\n",
        "[2] An object is measured to travel a distance $x = 5.1 \\pm 0.4 m$ during a time of $t = 0.4 \\pm 0.1 s$. What is the average velocity and the error in the average velocity?"
      ]
    },
    {
      "cell_type": "code",
      "execution_count": 19,
      "metadata": {
        "id": "uddKyvjncZEn",
        "outputId": "c313dba9-ebac-4213-dfab-84d22fa77e62",
        "colab": {
          "base_uri": "https://localhost:8080/"
        }
      },
      "outputs": [
        {
          "output_type": "stream",
          "name": "stdout",
          "text": [
            "Average velocity is: 12.7+/-3.3 ms^-1\n"
          ]
        }
      ],
      "source": [
        "#defining distance\n",
        "x = uc.ufloat(5.1, 0.4)\n",
        "#defining time\n",
        "t = uc.ufloat(0.4, 0.1)\n",
        "#print average velocity\n",
        "print ('Average velocity is:', x/t, 'ms^-1')"
      ]
    },
    {
      "cell_type": "markdown",
      "metadata": {
        "id": "m-TBeaz7cZEo"
      },
      "source": [
        "## Exercise 2\n",
        "[2] An enterprising cow attempts to jump over the moon by jumping vertically into the air with initial speed $v_0=4.0\\pm0.2 m/s$. After a time $t=0.60\\pm0.06s$, the height of the cow is $h = v_0t-\\frac{1}{2}g t^2 = 0.636 m$. What is the uncertainty in $h$? Take $g$ as exactly $9.81 ms^{-2}$."
      ]
    },
    {
      "cell_type": "code",
      "execution_count": 21,
      "metadata": {
        "id": "dY2zrG0xcZEo",
        "outputId": "5592df10-8995-47f4-c1dd-00825cfe4c3d",
        "colab": {
          "base_uri": "https://localhost:8080/"
        }
      },
      "outputs": [
        {
          "output_type": "stream",
          "name": "stdout",
          "text": [
            "The uncertainty in h is: 0.165 m\n"
          ]
        }
      ],
      "source": [
        "#define variables\n",
        "v0 = uc.ufloat(4.0, 0.2)\n",
        "t = uc.ufloat(0.60, 0.06)\n",
        "g = 9.81\n",
        "#define height equation\n",
        "h = v0*t - 0.5*g*t**2\n",
        "#print uncertainty in h\n",
        "print ('The uncertainty in h is:', round(h.std_dev, 3), 'm')"
      ]
    },
    {
      "cell_type": "markdown",
      "metadata": {
        "id": "3XpNO1QEcZEp"
      },
      "source": [
        "## Exercise 3\n",
        "[2] In an optics experiment the object distance $u$ is measured to be 20cm and the image distance $v$ is 10cm, both to an accuracy of 0.5cm. Find the focal length $f$ of the lens using the formula:\n",
        "\n",
        "$$ \\frac{1}{u}+\\frac{1}{v}=\\frac{1}{f}$$"
      ]
    },
    {
      "cell_type": "code",
      "execution_count": 34,
      "metadata": {
        "id": "FiWzmqTpcZEq",
        "outputId": "b491a55d-00c4-411f-b6b0-5291d6adbc1a",
        "colab": {
          "base_uri": "https://localhost:8080/"
        }
      },
      "outputs": [
        {
          "output_type": "stream",
          "name": "stdout",
          "text": [
            "The focal length of the lens is: 6.67+/-0.23 m\n"
          ]
        }
      ],
      "source": [
        "#define function to find focal length\n",
        "def focal_length(u,v):\n",
        "  return 1/(1/u + 1/v)\n",
        "#print focal length\n",
        "print('The focal length of the lens is:', focal_length(uc.ufloat(20, 0.5), uc.ufloat(10, 0.5)), 'm')"
      ]
    },
    {
      "cell_type": "markdown",
      "metadata": {
        "id": "qBgOP29kcZEq"
      },
      "source": [
        "## Exercise 4\n",
        "[2] Two students each measure the refractive index of water. Jack measures a value of $1.33 \\pm 0.03$ while Jill measures $1.28 \\pm 0.02$. Are these values in agreement? *You do have to think a bit about this one...*"
      ]
    },
    {
      "cell_type": "code",
      "execution_count": 9,
      "metadata": {
        "id": "x5HNdHREcZEq"
      },
      "outputs": [],
      "source": [
        "#The answers are not in agreement because the range of possible values for Jack's measurement is 1.30 to 1.36, while Jill's measurement has a range of 1.26 to 1.30. Therefore, there is no region of overlap in possible values."
      ]
    },
    {
      "cell_type": "markdown",
      "metadata": {
        "id": "XZlKUuQmcZEr"
      },
      "source": [
        "## Exercise 5\n",
        "[2] The damped resonance frequency $\\omega_{res}$ of an oscillating system is related to the (un-damped) natural angular frequency $\\omega_0$ and the damping coefficient $\\alpha$ by: \n",
        "\n",
        "$$\\omega_{res} = \\sqrt{ \\omega_0^2 - 2\\alpha^2}$$\n",
        "\n",
        "Find $f_0$ if the measured resonance frequency $f_{res}$ is $23.2\\pm0.1 Hz$ and the measured damping coefficient is $19.5\\pm0.5s^{-1}$.\n"
      ]
    },
    {
      "cell_type": "code",
      "execution_count": 43,
      "metadata": {
        "id": "v_g92XEjcZEs",
        "outputId": "b5321016-5ff1-4e18-e0e1-98cca2a97f7c",
        "colab": {
          "base_uri": "https://localhost:8080/"
        }
      },
      "outputs": [
        {
          "output_type": "stream",
          "name": "stdout",
          "text": [
            "The fundamental frequency of the oscillating system is: 23.61+/-0.10 Hz\n"
          ]
        }
      ],
      "source": [
        "#Define damped resonant frequency formula\n",
        "def omega_0(omega_res, alpha) :\n",
        "  return (omega_res**2 + 2*alpha**2)**0.5\n",
        "#Find omega_0\n",
        "omega_0 = omega_0(uc.ufloat(23.2, 0.1)*2*np.pi, uc.ufloat(19.5, 0.5))\n",
        "#Convert to f0\n",
        "f0 = omega_0/(2*np.pi)\n",
        "#Print answer\n",
        "print('The fundamental frequency of the oscillating system is:', f0, 'Hz')"
      ]
    },
    {
      "cell_type": "markdown",
      "metadata": {
        "id": "WffB96aZcZEt"
      },
      "source": [
        "## Exercise 6\n",
        "[2] Suppose you have the following equation from one of your lab experiments:\n",
        "\n",
        "$$f=\\frac{c}{2}\\sqrt{\\frac{n_x^2}{L_x^2}+\\frac{n_y^2}{L_y^2}+\\frac{n_z^2}{L_z^2}}$$\n",
        "\n",
        "where $f$ is the resonant frequency of sound waves in a box of sides $L_x$, $L_y$ and $L_z$ in length and the $n_x$ etc. are integers. $L_x = 10.2\\pm0.2m$, $L_y = 5.2\\pm0.3m$ and $L_z = 20.0\\pm0.1 m$, while $c = 331.3 + T * 0.606 \\,m\\,s^{-1}$ is the temperature-dependent speed of sound, and the temperature $T$ is $23 \\pm 1^\\circ C$.\n",
        "Calculate $f$ and the error in $f$ for the following values of $(nx,ny,nz)= (1,1,1), (1,1,2)$ and $(2,1,1)$.\n"
      ]
    },
    {
      "cell_type": "code",
      "execution_count": 54,
      "metadata": {
        "id": "04hRmrSocZEt",
        "outputId": "eccad31f-a465-4cc8-cfe0-da783017a14e",
        "colab": {
          "base_uri": "https://localhost:8080/"
        }
      },
      "outputs": [
        {
          "output_type": "stream",
          "name": "stdout",
          "text": [
            "The resonant frequency, f, for (nx, ny, nz) = (1,1,1) is: 43.4+/-0.9 Hz\n",
            "The resonant frequency, f, for (nx, ny, nz) = (1,1,2) is: 43.4+/-0.9 Hz\n",
            "The resonant frequency, f, for (nx, ny, nz) = (2,1,1) is: 86.7+/-1.7 Hz\n"
          ]
        }
      ],
      "source": [
        "#define function to find f\n",
        "def f(c,n_x, n_y, n_z, L_x, L_y, L_z):\n",
        "  return 0.5*c*(n_x**2/L_x**2 + n_x**2/L_x**2 + n_x**2/L_x**2)**0.5\n",
        "#calculate c\n",
        "T = uc.ufloat(23+273.15, 1)\n",
        "c = 331.3 + T *0.606\n",
        "#find f for (nx, ny, nz) = (1,1,1)\n",
        "print('The resonant frequency, f, for (nx, ny, nz) = (1,1,1) is:', f(c, 1, 1, 1, uc.ufloat(10.2, 0.2), uc.ufloat(5.2, 0.3), uc.ufloat(20.0, 0.1)), 'Hz')\n",
        "#find f for (nx, ny, nz) = (1,1,2)\n",
        "print('The resonant frequency, f, for (nx, ny, nz) = (1,1,2) is:', f(c, 1, 1, 2, uc.ufloat(10.2, 0.2), uc.ufloat(5.2, 0.3), uc.ufloat(20.0, 0.1)), 'Hz')\n",
        "#find f for (nx, ny, nz) = (2,1,1)\n",
        "print('The resonant frequency, f, for (nx, ny, nz) = (2,1,1) is:', f(c, 2, 1, 1, uc.ufloat(10.2, 0.2), uc.ufloat(5.2, 0.3), uc.ufloat(20.0, 0.1)), 'Hz')"
      ]
    },
    {
      "cell_type": "markdown",
      "metadata": {
        "id": "jaDXl6dQcZEu"
      },
      "source": [
        "## Exercise 7\n",
        "[4] The reflection coefficient $R_\\parallel$ for parallel plane-polarised light reflected from a surface is given by the equation:\n",
        "\n",
        "$$ R_\\parallel = \\frac{\\tan^2(\\theta_i - \\theta_t)}{\\tan^2(\\theta_i + \\theta_t)} $$\n",
        "\n",
        "Calculate the error in $R_\\parallel$ given measurements $\\theta_i = (78 \\pm 1)^\\circ$ and $\\theta_t = (40 \\pm 1)^\\circ$."
      ]
    },
    {
      "cell_type": "code",
      "execution_count": 111,
      "metadata": {
        "id": "c8K8I6cJcZEu",
        "outputId": "91fc6586-683e-4c89-aa62-ec5918c51a7b",
        "colab": {
          "base_uri": "https://localhost:8080/",
          "height": 35
        }
      },
      "outputs": [
        {
          "output_type": "execute_result",
          "data": {
            "text/plain": [
              "'The reflection coefficient R is  0.004+/-0.065'"
            ],
            "application/vnd.google.colaboratory.intrinsic+json": {
              "type": "string"
            }
          },
          "metadata": {},
          "execution_count": 111
        }
      ],
      "source": [
        "#define function to find R\n",
        "def R(omega_i, omega_t):\n",
        "  return (um.tan(omega_i - omega_t))**2/(um.tan(omega_t + omega_i))**2\n",
        "import math as math\n",
        "R = R(uc.ufloat(78, 1), uc.ufloat(40, 1))\n",
        "#print R, with its error\n",
        "f'The reflection coefficient R is {R: .2}'"
      ]
    },
    {
      "cell_type": "markdown",
      "metadata": {
        "id": "lgHoYGpjcZEv"
      },
      "source": [
        "## Exercise 8\n",
        "[4] Calculate and print to the screen the fractional uncertainty, as a percentage to one\n",
        "significant figure, of the fluid flow discharge coefficient $C_d$ from the equation\n",
        "\n",
        "$$\n",
        "C_d = \\frac{\\dot{m}\\sqrt{1-\\left(\\frac{d}{D}\\right)^4}}{Kd^2F\\sqrt{\\rho\\Delta P}}\n",
        "$$\n",
        "\n",
        "where\n",
        "\n",
        "\\begin{align*}\n",
        "    C_d &= \\text{discharge coefficient}&& \\text{(no units)} \\\\\n",
        "    \\dot{m} &= \\text{mass flow rate}&& = 0.13 \\pm 0.01kg\\,s^{-1} \\\\\n",
        "    d &= \\text{orifice diameter}&& = 11\\pm 1 mm \\\\\n",
        "    D &= \\text{pipe diameter}&& = 71 \\pm 1 mm \\\\\n",
        "    \\rho &= \\text{fluid density}&& =1.01\\pm0.01g\\,cm^{-3} \\\\\n",
        "    \\Delta P &= \\text{differential pressure}&& =156 \\pm 7 Pa \\\\\n",
        "    K &= \\text{a constant parameter}&& =\\text{constant (no units)} \\\\\n",
        "    F &= \\text{thermal expansion factor}&& =\\text{constant (no units)}\n",
        "\\end{align*}\n"
      ]
    },
    {
      "cell_type": "code",
      "source": [
        "from math import log10, floor\n",
        "def round_to_1(x):\n",
        "  return round(x, -int(floor(log10(abs(x)))))"
      ],
      "metadata": {
        "id": "AlYjSJ3MtlpT"
      },
      "execution_count": 103,
      "outputs": []
    },
    {
      "cell_type": "code",
      "execution_count": 112,
      "metadata": {
        "id": "jaB6BBJKcZEv",
        "outputId": "58029015-6d3e-481d-cc84-5e5682f24821",
        "colab": {
          "base_uri": "https://localhost:8080/"
        }
      },
      "outputs": [
        {
          "output_type": "stream",
          "name": "stdout",
          "text": [
            "The fractional uncertainty is 20.0 %\n"
          ]
        }
      ],
      "source": [
        "#define function to find C\n",
        "def C(m_dot,d,D,rho, delta_P, K, F):\n",
        "  return m_dot*(1-(d/D)**4)**0.5/(K*d**2*F*(rho*delta_P)**0.5)\n",
        "#calculate C       (K and F can take any constant value)\n",
        "C = C(uc.ufloat(0.13, 0.01), uc.ufloat(11, 1)/1000, uc.ufloat(71, 1)/1000, uc.ufloat(1.01, 0.01)*100**3/1000, uc.ufloat(156, 7), 1, 1)\n",
        "#calculate fractional uncertainty\n",
        "print('The fractional uncertainty is', round_to_1(C.std_dev*100/C.nominal_value), '%')"
      ]
    },
    {
      "cell_type": "markdown",
      "metadata": {
        "id": "oTtRxBXxcZEv"
      },
      "source": [
        "## Exercise 9: Optional problem (not marked)\n",
        "If you have time and want to try something interesting, do the following problem by plotting in 2D:\n",
        " - Draw an equilateral triangle with vertices and coordinates: vertex 1: $(p_1,q_1)$; vertex 2: $(p_2, q_2)$; vertex 3: $(p_3, q_3)$.\n",
        " - Place a dot at an arbitrary point $P = (x_0, y_0)$ within this triangle.\n",
        " - Find the next point by selecting randomly an integer $n = 1 , 2, $  or $3$ : \n",
        "    1. If 1 , place a dot halfway between P and vertex 1.\n",
        "    2. If 2 , place a dot halfway between P and vertex 2.\n",
        "    3. If 3 , place a dot halfway between P and vertex 3.\n",
        " - Repeat the last two steps using the last dot as the new P. \n",
        " \n",
        "Mathematically, the coordinates of successive points are given by the formulae \n",
        "\n",
        "$$(x_{i+1},y_{i+1})=0.5[(x_i,y_i)+(p_n,q_n)]$$\n",
        "\n",
        "and\n",
        "\n",
        "$$n=int(1+3r_i),$$\n",
        "\n",
        "where $r_i$ is a random number between 0 and 1 and where the $int()$ function outputs the closest integer smaller than or equal to the argument.\n",
        "\n",
        "Try extending this to four vertices."
      ]
    },
    {
      "cell_type": "code",
      "execution_count": 9,
      "metadata": {
        "id": "NTaC1UtFcZEw"
      },
      "outputs": [],
      "source": []
    }
  ],
  "metadata": {
    "kernelspec": {
      "display_name": "Python 3",
      "language": "python",
      "name": "python3"
    },
    "language_info": {
      "codemirror_mode": {
        "name": "ipython",
        "version": 3
      },
      "file_extension": ".py",
      "mimetype": "text/x-python",
      "name": "python",
      "nbconvert_exporter": "python",
      "pygments_lexer": "ipython3",
      "version": "3.7.10"
    },
    "colab": {
      "provenance": []
    }
  },
  "nbformat": 4,
  "nbformat_minor": 0
}