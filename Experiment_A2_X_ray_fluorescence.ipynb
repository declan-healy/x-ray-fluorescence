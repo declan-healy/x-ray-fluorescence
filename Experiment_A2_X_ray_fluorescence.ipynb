{
  "nbformat": 4,
  "nbformat_minor": 0,
  "metadata": {
    "colab": {
      "provenance": [],
      "authorship_tag": "ABX9TyNG7sIOOq+kqYPzURiLGv3V",
      "include_colab_link": true
    },
    "kernelspec": {
      "name": "python3",
      "display_name": "Python 3"
    },
    "language_info": {
      "name": "python"
    }
  },
  "cells": [
    {
      "cell_type": "markdown",
      "metadata": {
        "id": "view-in-github",
        "colab_type": "text"
      },
      "source": [
        "<a href=\"https://colab.research.google.com/github/declan-healy/x-ray-fluorescence/blob/main/Experiment_A2_X_ray_fluorescence.ipynb\" target=\"_parent\"><img src=\"https://colab.research.google.com/assets/colab-badge.svg\" alt=\"Open In Colab\"/></a>"
      ]
    },
    {
      "cell_type": "code",
      "execution_count": 43,
      "metadata": {
        "colab": {
          "base_uri": "https://localhost:8080/"
        },
        "id": "rMDwkFAjWtQE",
        "outputId": "10ad14be-1d46-4c98-e6d1-90e1bf835b76"
      },
      "outputs": [
        {
          "output_type": "stream",
          "name": "stdout",
          "text": [
            "From https://github.com/declan-healy/x-ray-fluorescence\n",
            " * branch            HEAD       -> FETCH_HEAD\n",
            "Already up to date.\n"
          ]
        }
      ],
      "source": [
        "!git pull \"https://github.com/declan-healy/x-ray-fluorescence.git\""
      ]
    },
    {
      "cell_type": "code",
      "source": [
        "import pandas as pd\n",
        "import numpy as np\n",
        "import matplotlib.pyplot as plt"
      ],
      "metadata": {
        "id": "1nzmYC47bKR-"
      },
      "execution_count": 44,
      "outputs": []
    },
    {
      "cell_type": "code",
      "source": [
        "x_axis = np.linspace(1,512,512)\n",
        "w1_df = pd.read_csv(\"4 values.txt\",  encoding = \"ISO-8859-1\", delimiter = \"\\t\", skiprows = 4)\n",
        "w1_n1 = w1_df.iloc[:,1]\n",
        "w1_n2 = w1_df.iloc[:,2]\n",
        "w1_n3 = w1_df.iloc[:,3]\n",
        "w1_n4 = w1_df.iloc[:,4]\n",
        "w1_n5 = w1_df.iloc[:,5]\n",
        "w1_n6 = w1_df.iloc[:,6]\n",
        "plt.plot(x_axis,w1_n1)\n",
        "\n",
        "w2_df = pd.read_csv(\"50 Euro cent (text).txt\",  encoding = \"ISO-8859-1\", delimiter = \"\\t\", skiprows = 4)\n",
        "#50c (euro)\n",
        "w2_n1 = w2_df.iloc[:,1]\n",
        "#1 dime (US)\n",
        "w2_n2 = w2_df.iloc[:,2]\n",
        "#£1 (UK)\n",
        "w2_n3 = w2_df.iloc[:,3]\n",
        "#Galvinised steel sample\n",
        "w2_n4 = w2_df.iloc[:,4]\n",
        "#2p (UK)\n",
        "w2_n5 = w2_df.iloc[:,5]\n",
        "#Rupee (Indian)\n",
        "w2_n6 = w2_df.iloc[:,6]\n",
        "#alloy number 4\n",
        "w2_n7 = w2_df.iloc[:,7]\n",
        "#alloy number 3\n",
        "w2_n8 = w2_df.iloc[:,8]\n",
        "w2_n9 = w2_df.iloc[:,9]\n",
        "w2_n10 = w2_df.iloc[:,10]\n",
        "w2_n11 = w2_df.iloc[:,11]\n",
        "w2_n12 = w2_df.iloc[:,12]\n",
        "w2_df_callibration = pd.read_csv(\"CONTROL `1.txt\",  encoding = \"ISO-8859-1\", delimiter = \"\\t\", skiprows = 4)\n",
        "w2_n0 = w2_df_callibration.iloc[:,1]\n",
        "plt.plot(x_axis,w2_n4)"
      ],
      "metadata": {
        "colab": {
          "base_uri": "https://localhost:8080/",
          "height": 282
        },
        "id": "huJy303bZWRM",
        "outputId": "0f54b132-5ed3-4918-e3cf-0a96a5567a85"
      },
      "execution_count": 102,
      "outputs": [
        {
          "output_type": "execute_result",
          "data": {
            "text/plain": [
              "[<matplotlib.lines.Line2D at 0x7ffae736ac50>]"
            ]
          },
          "metadata": {},
          "execution_count": 102
        },
        {
          "output_type": "display_data",
          "data": {
            "text/plain": [
              "<Figure size 432x288 with 1 Axes>"
            ],
            "image/png": "[encoded data removed]"
          },
          "metadata": {
            "needs_background": "light"
          }
        }
      ]
    }
  ]
}